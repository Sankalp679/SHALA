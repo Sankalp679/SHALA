{
  "nbformat": 4,
  "nbformat_minor": 0,
  "metadata": {
    "colab": {
      "name": "In class demonstration kmeans .ipynb.txt",
      "provenance": [],
      "collapsed_sections": []
    },
    "kernelspec": {
      "name": "python3",
      "display_name": "Python 3"
    }
  },
  "cells": [
    {
      "cell_type": "markdown",
      "metadata": {
        "id": "l9a_vZuCDjZd",
        "colab_type": "text"
      },
      "source": [
        "In this lab we will implement KMeans clustering algorithm. The computational complexity of this algo is linear in most of the cases with regard to the number of the instances, number of cluster and dimensions of the dataset. In worst case scenario, the complexity can increase exponentially with number of instances but this rarely happens."
      ]
    },
    {
      "cell_type": "markdown",
      "metadata": {
        "id": "mq649ZDl2M81",
        "colab_type": "text"
      },
      "source": [
        "#### Loading required packages to complete the lab"
      ]
    },
    {
      "cell_type": "code",
      "metadata": {
        "id": "hatKCFAn1-6T",
        "colab_type": "code",
        "colab": {}
      },
      "source": [
        "import numpy as np\n",
        "import matplotlib.pyplot as plt\n",
        "from sklearn.datasets import make_blobs\n",
        "from sklearn.cluster import KMeans\n",
        "from sklearn.model_selection import train_test_split"
      ],
      "execution_count": 0,
      "outputs": []
    },
    {
      "cell_type": "code",
      "metadata": {
        "id": "X2BOkCY72QUh",
        "colab_type": "code",
        "outputId": "80ab8369-b2dd-4cba-f33e-e5fefb30751c",
        "colab": {
          "base_uri": "https://localhost:8080/",
          "height": 265
        }
      },
      "source": [
        "# Creating dataset for clustering problem\n",
        "X, y = make_blobs(n_samples=1000, centers=5, cluster_std=.35, random_state=42)\n",
        "\n",
        "# Splitting our data into training set and new data set (futre data points)\n",
        "X_train, X_new = train_test_split(X, test_size=.01)\n",
        "# plotting training dataset\n",
        "plt.scatter(X_train[:,0], X_train[:,1])\n",
        "plt.show()"
      ],
      "execution_count": 0,
      "outputs": [
        {
          "output_type": "display_data",
          "data": {
            "image/png": "[encoded data removed]",
            "text/plain": [
              "<Figure size 432x288 with 1 Axes>"
            ]
          },
          "metadata": {
            "tags": [],
            "needs_background": "light"
          }
        }
      ]
    },
    {
      "cell_type": "markdown",
      "metadata": {
        "id": "-ITY2Ypd4B2Z",
        "colab_type": "text"
      },
      "source": [
        "In case of unsupervised leanring problem we won't have any label that represent the group of the customer i.e. we will only have X. As you see nn our dataset we know there are 5 cluster. Let's see how we can find out correct number of cluster using our clustering algorithms when only X is available and y will be missing. Assume we are having above dataset but we don't know how many clusters will be required to group the similar instance together into a similar groups.\n"
      ]
    },
    {
      "cell_type": "markdown",
      "metadata": {
        "id": "E6kUcQocEctB",
        "colab_type": "text"
      },
      "source": [
        "Results of kmeans depends on how one initialize the centroids and might provide suboptimal solution if not centroids aren't initialized properly. Sklean handles this problem by providing two ways, one is to use the init methods to initialize the centroid and other is random intialization of centroids by 10 times (default is 10) using k-means++ initialization scheme [by default KMeans uses K-Means++](https://scikit-learn.org/stable/modules/clustering.html) and select the best solution based on the mean squared distance between each instance and its closest centroid i.e.  [within-cluster sum-of-squares](https://scikit-learn.org/stable/modules/clustering.html). Number of random initialization is control by n_init parameters in KMeans.  \n",
        "You can set init to \"random\" to use the original k-means implementation which initialize n_clusters at random"
      ]
    },
    {
      "cell_type": "code",
      "metadata": {
        "id": "_2Km5B9o4BAa",
        "colab_type": "code",
        "colab": {}
      },
      "source": [
        "# Our initial guess will be 4 cluster that can assist us to group the similar \n",
        "# instance together\n",
        "clusters = 4\n",
        "kmeans = KMeans(n_clusters=clusters)\n",
        "y_pred = kmeans.fit_predict(X_train)"
      ],
      "execution_count": 0,
      "outputs": []
    },
    {
      "cell_type": "code",
      "metadata": {
        "id": "nBgTDRVILzhw",
        "colab_type": "code",
        "outputId": "d5476604-7741-4ec0-8329-ca541f3564a6",
        "colab": {
          "base_uri": "https://localhost:8080/",
          "height": 265
        }
      },
      "source": [
        "# plotting the centroids of each group\n",
        "plt.scatter(X_train[:,0], X_train[:,1])\n",
        "plt.scatter(kmeans.cluster_centers_[:, 0], kmeans.cluster_centers_[:, 1], s=200, c='red')\n",
        "plt.show()"
      ],
      "execution_count": 0,
      "outputs": [
        {
          "output_type": "display_data",
          "data": {
            "image/png": "[encoded data removed]",
            "text/plain": [
              "<Figure size 432x288 with 1 Axes>"
            ]
          },
          "metadata": {
            "tags": [],
            "needs_background": "light"
          }
        }
      ]
    },
    {
      "cell_type": "markdown",
      "metadata": {
        "id": "nVuXvMgv9rjX",
        "colab_type": "text"
      },
      "source": [
        "Now each instance has been assigned to one of the four clusters. Clusters are numbers from 0 to 3.  Let's have a look at the output for the first 20 instances."
      ]
    },
    {
      "cell_type": "code",
      "metadata": {
        "id": "r9B8l4fv3fRD",
        "colab_type": "code",
        "outputId": "56b62d53-ce81-4e70-9ba7-3b3ab7888100",
        "colab": {
          "base_uri": "https://localhost:8080/",
          "height": 51
        }
      },
      "source": [
        "y_pred[:20]"
      ],
      "execution_count": 0,
      "outputs": [
        {
          "output_type": "execute_result",
          "data": {
            "text/plain": [
              "array([3, 1, 3, 2, 2, 1, 0, 2, 1, 3, 0, 1, 3, 3, 1, 1, 1, 3, 0, 1],\n",
              "      dtype=int32)"
            ]
          },
          "metadata": {
            "tags": []
          },
          "execution_count": 16
        }
      ]
    },
    {
      "cell_type": "code",
      "metadata": {
        "id": "pskm7bbxHoQg",
        "colab_type": "code",
        "outputId": "19a25aa8-7389-4ae1-9392-f4d38994cf89",
        "colab": {
          "base_uri": "https://localhost:8080/",
          "height": 34
        }
      },
      "source": [
        "# Checking within-cluster sum of squares\n",
        "kmeans.inertia_"
      ],
      "execution_count": 0,
      "outputs": [
        {
          "output_type": "execute_result",
          "data": {
            "text/plain": [
              "1408.788426494341"
            ]
          },
          "metadata": {
            "tags": []
          },
          "execution_count": 17
        }
      ]
    },
    {
      "cell_type": "markdown",
      "metadata": {
        "id": "yClqHq_C-TE8",
        "colab_type": "text"
      },
      "source": [
        "As we know KMeans find n clusters centroids (n is number of cluster we ask our algo to consider) and assign each instance to the closest centroid. We can have a look at the four centroids that algorithms found\n",
        "\n",
        "\n",
        "Note : Here we are into two dimensions so we need two data points to represents our centroids"
      ]
    },
    {
      "cell_type": "code",
      "metadata": {
        "id": "oKPrwf9N-398",
        "colab_type": "code",
        "outputId": "3d86d6f3-d881-4679-9838-ce51cef2da63",
        "colab": {
          "base_uri": "https://localhost:8080/",
          "height": 85
        }
      },
      "source": [
        "kmeans.cluster_centers_ "
      ],
      "execution_count": 0,
      "outputs": [
        {
          "output_type": "execute_result",
          "data": {
            "text/plain": [
              "array([[-8.83338316,  7.34887161],\n",
              "       [ 3.32887876,  3.07978777],\n",
              "       [-6.80672085, -6.85949414],\n",
              "       [-2.51677142,  9.0243679 ]])"
            ]
          },
          "metadata": {
            "tags": []
          },
          "execution_count": 18
        }
      ]
    },
    {
      "cell_type": "markdown",
      "metadata": {
        "id": "hBs1O5vOAPFp",
        "colab_type": "text"
      },
      "source": [
        "#### Assign new instances to the cluster whose centroid is the closet"
      ]
    },
    {
      "cell_type": "code",
      "metadata": {
        "id": "K9lV9foW-6tf",
        "colab_type": "code",
        "outputId": "99bc704d-7919-4be2-b814-18daa1753d1e",
        "colab": {
          "base_uri": "https://localhost:8080/",
          "height": 34
        }
      },
      "source": [
        "kmeans.predict(X_new)"
      ],
      "execution_count": 0,
      "outputs": [
        {
          "output_type": "execute_result",
          "data": {
            "text/plain": [
              "array([2, 1, 1, 2, 1, 2, 0, 2, 1, 2], dtype=int32)"
            ]
          },
          "metadata": {
            "tags": []
          },
          "execution_count": 19
        }
      ]
    },
    {
      "cell_type": "markdown",
      "metadata": {
        "id": "6iW4_T8_B8NU",
        "colab_type": "text"
      },
      "source": [
        "#### Kmeans measures the distance from each instance to every centroid and it can use seen using transform method. If you see below, first instance of X_new dataset is 6.4725 distance away from the centroid of group_0, 13.7044 distance away from the centroid of group_1, 1.9369 distance away from the centroid of group_3 and 10.97060 distance away from the centroid of group_4"
      ]
    },
    {
      "cell_type": "code",
      "metadata": {
        "id": "uV8Ma6IhB7YI",
        "colab_type": "code",
        "outputId": "062dd044-22dc-48d0-d9da-e85bb6cb55c1",
        "colab": {
          "base_uri": "https://localhost:8080/",
          "height": 187
        }
      },
      "source": [
        "kmeans.transform(X_new)"
      ],
      "execution_count": 0,
      "outputs": [
        {
          "output_type": "execute_result",
          "data": {
            "text/plain": [
              "array([[14.07189367, 14.35135693,  0.48668282, 16.35263756],\n",
              "       [11.29524813,  1.59756243, 13.48001042,  6.9905208 ],\n",
              "       [11.26281635,  1.71775015, 14.0368727 ,  6.64429287],\n",
              "       [13.95471089, 13.98528256,  0.39833963, 16.09898632],\n",
              "       [14.07490761,  1.28986364, 14.296025  ,  9.62656558],\n",
              "       [14.42752786, 14.09989498,  0.18991222, 16.45340732],\n",
              "       [ 0.38228491, 12.95842023, 14.71633499,  6.38485741],\n",
              "       [13.99234305, 14.2882605 ,  0.52063433, 16.27156713],\n",
              "       [11.95956487,  1.23919551, 14.53059072,  7.13733826],\n",
              "       [14.5013957 , 14.54381088,  0.35585544, 16.71658385]])"
            ]
          },
          "metadata": {
            "tags": []
          },
          "execution_count": 20
        }
      ]
    },
    {
      "cell_type": "markdown",
      "metadata": {
        "id": "AMYtUs3jJyKS",
        "colab_type": "text"
      },
      "source": [
        "Finding the optimal number of clusters in kmeans.\n",
        "One might be thinking that the model with lower within-cluster sum-of-squares score will be the best to decide how many cluster to pick to club the similar information together but this technique has some flaws and one of them is that as you increase the number of cluster the within-cluster-sum-of-squares score decrease.  Obviously more the number of clusters, the closer each instance will be to its closest centroid. So a more precise approach to select the number of cluster is silhouette score which is the mean [silhouette cofficient](https://en.wikipedia.org/wiki/Silhouette_(clustering)) over all the instances. "
      ]
    },
    {
      "cell_type": "code",
      "metadata": {
        "id": "x_EdAoksPao-",
        "colab_type": "code",
        "outputId": "36624167-94c3-492a-96c2-0b9c332d30fe",
        "colab": {
          "base_uri": "https://localhost:8080/",
          "height": 232
        }
      },
      "source": [
        "from sklearn.metrics import silhouette_score\n",
        "kmeans_models = [KMeans(n_clusters=k, random_state=42).fit(X)\n",
        "                for k in range(1, 10)]\n",
        "silhouette_scores = [silhouette_score(X, model.labels_)\n",
        "                     for model in kmeans_models[1:]]\n",
        "plt.figure(figsize=(8, 3))\n",
        "plt.plot(range(2, 10), silhouette_scores, \"bo-\")\n",
        "plt.xlabel(\"$k$\", fontsize=14)\n",
        "plt.ylabel(\"Silhouette score\", fontsize=14)\n",
        "plt.show()"
      ],
      "execution_count": 0,
      "outputs": [
        {
          "output_type": "display_data",
          "data": {
            "image/png": "[encoded data removed]",
            "text/plain": [
              "<Figure size 576x216 with 1 Axes>"
            ]
          },
          "metadata": {
            "tags": [],
            "needs_background": "light"
          }
        }
      ]
    },
    {
      "cell_type": "markdown",
      "metadata": {
        "id": "xbTw4G-VQ8kf",
        "colab_type": "text"
      },
      "source": [
        "As you see above, 5 cluster is slightly a good choice to consider. So lets do kmeans using 5 clusters and plot the results "
      ]
    },
    {
      "cell_type": "code",
      "metadata": {
        "id": "DRSumu4bMeTR",
        "colab_type": "code",
        "outputId": "c9859224-177f-42c3-a1f0-888f3bfea4ee",
        "colab": {
          "base_uri": "https://localhost:8080/",
          "height": 265
        }
      },
      "source": [
        "kmeans = KMeans(n_clusters=5)\n",
        "y_pred = kmeans.fit_predict(X_train)\n",
        "# plotting the centroids of each group\n",
        "plt.scatter(X_train[:,0], X_train[:,1])\n",
        "plt.scatter(kmeans.cluster_centers_[:, 0], kmeans.cluster_centers_[:, 1], s=200, c='red')\n",
        "plt.show()"
      ],
      "execution_count": 0,
      "outputs": [
        {
          "output_type": "display_data",
          "data": {
            "image/png": "[encoded data removed]",
            "text/plain": [
              "<Figure size 432x288 with 1 Axes>"
            ]
          },
          "metadata": {
            "tags": [],
            "needs_background": "light"
          }
        }
      ]
    },
    {
      "cell_type": "code",
      "metadata": {
        "id": "8epbdCquS-Pr",
        "colab_type": "code",
        "colab": {}
      },
      "source": [
        ""
      ],
      "execution_count": 0,
      "outputs": []
    }
  ]
}