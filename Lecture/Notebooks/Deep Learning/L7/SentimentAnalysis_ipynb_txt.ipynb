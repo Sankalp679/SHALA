{
  "nbformat": 4,
  "nbformat_minor": 0,
  "metadata": {
    "kernelspec": {
      "display_name": "Python 3",
      "language": "python",
      "name": "python3"
    },
    "language_info": {
      "codemirror_mode": {
        "name": "ipython",
        "version": 3
      },
      "file_extension": ".py",
      "mimetype": "text/x-python",
      "name": "python",
      "nbconvert_exporter": "python",
      "pygments_lexer": "ipython3",
      "version": "3.6.9"
    },
    "colab": {
      "name": "SentimentAnalysis.ipynb.txt",
      "provenance": []
    }
  },
  "cells": [
    {
      "cell_type": "markdown",
      "metadata": {
        "id": "I3UQM67DgXtk",
        "colab_type": "text"
      },
      "source": [
        "# Sentiment Classification with Natural Language Processing on LSTM "
      ]
    },
    {
      "cell_type": "markdown",
      "metadata": {
        "id": "KxXxxUZpgXtl",
        "colab_type": "text"
      },
      "source": [
        "This dataset consists of reviews of fine foods from amazon. The data span a period of more than 10 years, including all ~500,000 reviews up to October 2012. Reviews include product and user information, ratings, and a plain text review. It also includes reviews from all other Amazon categories."
      ]
    },
    {
      "cell_type": "code",
      "metadata": {
        "id": "Mp13wse9gXtm",
        "colab_type": "code",
        "colab": {}
      },
      "source": [
        "# Importing the libraries\n",
        "import pandas as pd\n",
        "import numpy as np\n",
        "import seaborn as sns\n",
        "import matplotlib.pyplot as plt\n",
        "%matplotlib inline"
      ],
      "execution_count": null,
      "outputs": []
    },
    {
      "cell_type": "code",
      "metadata": {
        "id": "rwgLF7nggXtp",
        "colab_type": "code",
        "colab": {}
      },
      "source": [
        "df = pd.read_csv('SentimentData/Reviews.csv')"
      ],
      "execution_count": null,
      "outputs": []
    },
    {
      "cell_type": "code",
      "metadata": {
        "id": "IKjIS7Q4gXts",
        "colab_type": "code",
        "colab": {}
      },
      "source": [
        "df=df[:10000]"
      ],
      "execution_count": null,
      "outputs": []
    },
    {
      "cell_type": "code",
      "metadata": {
        "id": "ikMUJuoqgXtu",
        "colab_type": "code",
        "colab": {},
        "outputId": "11dc67ff-dfc9-42db-c9e7-e30f61251e1e"
      },
      "source": [
        "df.head()"
      ],
      "execution_count": null,
      "outputs": [
        {
          "output_type": "execute_result",
          "data": {
            "text/html": [
              "<div>\n",
              "<style scoped>\n",
              "    .dataframe tbody tr th:only-of-type {\n",
              "        vertical-align: middle;\n",
              "    }\n",
              "\n",
              "    .dataframe tbody tr th {\n",
              "        vertical-align: top;\n",
              "    }\n",
              "\n",
              "    .dataframe thead th {\n",
              "        text-align: right;\n",
              "    }\n",
              "</style>\n",
              "<table border=\"1\" class=\"dataframe\">\n",
              "  <thead>\n",
              "    <tr style=\"text-align: right;\">\n",
              "      <th></th>\n",
              "      <th>Id</th>\n",
              "      <th>ProductId</th>\n",
              "      <th>UserId</th>\n",
              "      <th>ProfileName</th>\n",
              "      <th>HelpfulnessNumerator</th>\n",
              "      <th>HelpfulnessDenominator</th>\n",
              "      <th>Score</th>\n",
              "      <th>Time</th>\n",
              "      <th>Summary</th>\n",
              "      <th>Text</th>\n",
              "    </tr>\n",
              "  </thead>\n",
              "  <tbody>\n",
              "    <tr>\n",
              "      <th>0</th>\n",
              "      <td>1</td>\n",
              "      <td>B001E4KFG0</td>\n",
              "      <td>A3SGXH7AUHU8GW</td>\n",
              "      <td>delmartian</td>\n",
              "      <td>1</td>\n",
              "      <td>1</td>\n",
              "      <td>5</td>\n",
              "      <td>1303862400</td>\n",
              "      <td>Good Quality Dog Food</td>\n",
              "      <td>I have bought several of the Vitality canned d...</td>\n",
              "    </tr>\n",
              "    <tr>\n",
              "      <th>1</th>\n",
              "      <td>2</td>\n",
              "      <td>B00813GRG4</td>\n",
              "      <td>A1D87F6ZCVE5NK</td>\n",
              "      <td>dll pa</td>\n",
              "      <td>0</td>\n",
              "      <td>0</td>\n",
              "      <td>1</td>\n",
              "      <td>1346976000</td>\n",
              "      <td>Not as Advertised</td>\n",
              "      <td>Product arrived labeled as Jumbo Salted Peanut...</td>\n",
              "    </tr>\n",
              "    <tr>\n",
              "      <th>2</th>\n",
              "      <td>3</td>\n",
              "      <td>B000LQOCH0</td>\n",
              "      <td>ABXLMWJIXXAIN</td>\n",
              "      <td>Natalia Corres \"Natalia Corres\"</td>\n",
              "      <td>1</td>\n",
              "      <td>1</td>\n",
              "      <td>4</td>\n",
              "      <td>1219017600</td>\n",
              "      <td>\"Delight\" says it all</td>\n",
              "      <td>This is a confection that has been around a fe...</td>\n",
              "    </tr>\n",
              "    <tr>\n",
              "      <th>3</th>\n",
              "      <td>4</td>\n",
              "      <td>B000UA0QIQ</td>\n",
              "      <td>A395BORC6FGVXV</td>\n",
              "      <td>Karl</td>\n",
              "      <td>3</td>\n",
              "      <td>3</td>\n",
              "      <td>2</td>\n",
              "      <td>1307923200</td>\n",
              "      <td>Cough Medicine</td>\n",
              "      <td>If you are looking for the secret ingredient i...</td>\n",
              "    </tr>\n",
              "    <tr>\n",
              "      <th>4</th>\n",
              "      <td>5</td>\n",
              "      <td>B006K2ZZ7K</td>\n",
              "      <td>A1UQRSCLF8GW1T</td>\n",
              "      <td>Michael D. Bigham \"M. Wassir\"</td>\n",
              "      <td>0</td>\n",
              "      <td>0</td>\n",
              "      <td>5</td>\n",
              "      <td>1350777600</td>\n",
              "      <td>Great taffy</td>\n",
              "      <td>Great taffy at a great price.  There was a wid...</td>\n",
              "    </tr>\n",
              "  </tbody>\n",
              "</table>\n",
              "</div>"
            ],
            "text/plain": [
              "   Id   ProductId          UserId                      ProfileName  \\\n",
              "0   1  B001E4KFG0  A3SGXH7AUHU8GW                       delmartian   \n",
              "1   2  B00813GRG4  A1D87F6ZCVE5NK                           dll pa   \n",
              "2   3  B000LQOCH0   ABXLMWJIXXAIN  Natalia Corres \"Natalia Corres\"   \n",
              "3   4  B000UA0QIQ  A395BORC6FGVXV                             Karl   \n",
              "4   5  B006K2ZZ7K  A1UQRSCLF8GW1T    Michael D. Bigham \"M. Wassir\"   \n",
              "\n",
              "   HelpfulnessNumerator  HelpfulnessDenominator  Score        Time  \\\n",
              "0                     1                       1      5  1303862400   \n",
              "1                     0                       0      1  1346976000   \n",
              "2                     1                       1      4  1219017600   \n",
              "3                     3                       3      2  1307923200   \n",
              "4                     0                       0      5  1350777600   \n",
              "\n",
              "                 Summary                                               Text  \n",
              "0  Good Quality Dog Food  I have bought several of the Vitality canned d...  \n",
              "1      Not as Advertised  Product arrived labeled as Jumbo Salted Peanut...  \n",
              "2  \"Delight\" says it all  This is a confection that has been around a fe...  \n",
              "3         Cough Medicine  If you are looking for the secret ingredient i...  \n",
              "4            Great taffy  Great taffy at a great price.  There was a wid...  "
            ]
          },
          "metadata": {
            "tags": []
          },
          "execution_count": 4
        }
      ]
    },
    {
      "cell_type": "code",
      "metadata": {
        "id": "CqQDibB_gXty",
        "colab_type": "code",
        "colab": {},
        "outputId": "20d81b74-d0e4-4c58-e701-bd13c7519d41"
      },
      "source": [
        "df.shape"
      ],
      "execution_count": null,
      "outputs": [
        {
          "output_type": "execute_result",
          "data": {
            "text/plain": [
              "(10000, 10)"
            ]
          },
          "metadata": {
            "tags": []
          },
          "execution_count": 5
        }
      ]
    },
    {
      "cell_type": "markdown",
      "metadata": {
        "id": "0QQs-2U4gXt0",
        "colab_type": "text"
      },
      "source": [
        "\n",
        "# Text Cleaning or Preprocessing"
      ]
    },
    {
      "cell_type": "code",
      "metadata": {
        "id": "PoIWSwtKgXt1",
        "colab_type": "code",
        "colab": {},
        "outputId": "bfd80da4-6c79-4131-b3bf-d0a9f74545a1"
      },
      "source": [
        "# Cleaning the texts\n",
        "import re\n",
        "import nltk\n",
        "nltk.download('stopwords')\n",
        "from nltk.corpus import stopwords\n",
        "from nltk.stem.porter import PorterStemmer\n",
        "corpus = []\n",
        "for i in range(0, 10000):\n",
        "    review = re.sub('[^a-zA-Z]', ' ', df['Text'][i])\n",
        "    review = review.lower()\n",
        "    review = review.split()\n",
        "    ps = PorterStemmer()\n",
        "    review = [ps.stem(word) for word in review if not word in set(stopwords.words('english'))]\n",
        "    review = ' '.join(review)\n",
        "    corpus.append(review)"
      ],
      "execution_count": null,
      "outputs": [
        {
          "output_type": "stream",
          "text": [
            "[nltk_data] Downloading package stopwords to /home/kaveri/nltk_data...\n",
            "[nltk_data]   Package stopwords is already up-to-date!\n"
          ],
          "name": "stderr"
        }
      ]
    },
    {
      "cell_type": "code",
      "metadata": {
        "id": "6kA9AfcJgXt3",
        "colab_type": "code",
        "colab": {},
        "outputId": "cbaa12af-a226-411c-b018-cf0fcbe0dc28"
      },
      "source": [
        "corpus=pd.DataFrame(corpus, columns=['Reviews']) \n",
        "corpus.head()"
      ],
      "execution_count": null,
      "outputs": [
        {
          "output_type": "execute_result",
          "data": {
            "text/html": [
              "<div>\n",
              "<style scoped>\n",
              "    .dataframe tbody tr th:only-of-type {\n",
              "        vertical-align: middle;\n",
              "    }\n",
              "\n",
              "    .dataframe tbody tr th {\n",
              "        vertical-align: top;\n",
              "    }\n",
              "\n",
              "    .dataframe thead th {\n",
              "        text-align: right;\n",
              "    }\n",
              "</style>\n",
              "<table border=\"1\" class=\"dataframe\">\n",
              "  <thead>\n",
              "    <tr style=\"text-align: right;\">\n",
              "      <th></th>\n",
              "      <th>Reviews</th>\n",
              "    </tr>\n",
              "  </thead>\n",
              "  <tbody>\n",
              "    <tr>\n",
              "      <th>0</th>\n",
              "      <td>bought sever vital can dog food product found ...</td>\n",
              "    </tr>\n",
              "    <tr>\n",
              "      <th>1</th>\n",
              "      <td>product arriv label jumbo salt peanut peanut a...</td>\n",
              "    </tr>\n",
              "    <tr>\n",
              "      <th>2</th>\n",
              "      <td>confect around centuri light pillowi citru gel...</td>\n",
              "    </tr>\n",
              "    <tr>\n",
              "      <th>3</th>\n",
              "      <td>look secret ingredi robitussin believ found go...</td>\n",
              "    </tr>\n",
              "    <tr>\n",
              "      <th>4</th>\n",
              "      <td>great taffi great price wide assort yummi taff...</td>\n",
              "    </tr>\n",
              "  </tbody>\n",
              "</table>\n",
              "</div>"
            ],
            "text/plain": [
              "                                             Reviews\n",
              "0  bought sever vital can dog food product found ...\n",
              "1  product arriv label jumbo salt peanut peanut a...\n",
              "2  confect around centuri light pillowi citru gel...\n",
              "3  look secret ingredi robitussin believ found go...\n",
              "4  great taffi great price wide assort yummi taff..."
            ]
          },
          "metadata": {
            "tags": []
          },
          "execution_count": 7
        }
      ]
    },
    {
      "cell_type": "code",
      "metadata": {
        "id": "dRyKYbxugXt8",
        "colab_type": "code",
        "colab": {},
        "outputId": "574a2612-50be-4932-c141-9e884a078afc"
      },
      "source": [
        "result=corpus.join(df[['Score']])\n",
        "result.head()"
      ],
      "execution_count": null,
      "outputs": [
        {
          "output_type": "execute_result",
          "data": {
            "text/html": [
              "<div>\n",
              "<style scoped>\n",
              "    .dataframe tbody tr th:only-of-type {\n",
              "        vertical-align: middle;\n",
              "    }\n",
              "\n",
              "    .dataframe tbody tr th {\n",
              "        vertical-align: top;\n",
              "    }\n",
              "\n",
              "    .dataframe thead th {\n",
              "        text-align: right;\n",
              "    }\n",
              "</style>\n",
              "<table border=\"1\" class=\"dataframe\">\n",
              "  <thead>\n",
              "    <tr style=\"text-align: right;\">\n",
              "      <th></th>\n",
              "      <th>Reviews</th>\n",
              "      <th>Score</th>\n",
              "    </tr>\n",
              "  </thead>\n",
              "  <tbody>\n",
              "    <tr>\n",
              "      <th>0</th>\n",
              "      <td>bought sever vital can dog food product found ...</td>\n",
              "      <td>5</td>\n",
              "    </tr>\n",
              "    <tr>\n",
              "      <th>1</th>\n",
              "      <td>product arriv label jumbo salt peanut peanut a...</td>\n",
              "      <td>1</td>\n",
              "    </tr>\n",
              "    <tr>\n",
              "      <th>2</th>\n",
              "      <td>confect around centuri light pillowi citru gel...</td>\n",
              "      <td>4</td>\n",
              "    </tr>\n",
              "    <tr>\n",
              "      <th>3</th>\n",
              "      <td>look secret ingredi robitussin believ found go...</td>\n",
              "      <td>2</td>\n",
              "    </tr>\n",
              "    <tr>\n",
              "      <th>4</th>\n",
              "      <td>great taffi great price wide assort yummi taff...</td>\n",
              "      <td>5</td>\n",
              "    </tr>\n",
              "  </tbody>\n",
              "</table>\n",
              "</div>"
            ],
            "text/plain": [
              "                                             Reviews  Score\n",
              "0  bought sever vital can dog food product found ...      5\n",
              "1  product arriv label jumbo salt peanut peanut a...      1\n",
              "2  confect around centuri light pillowi citru gel...      4\n",
              "3  look secret ingredi robitussin believ found go...      2\n",
              "4  great taffi great price wide assort yummi taff...      5"
            ]
          },
          "metadata": {
            "tags": []
          },
          "execution_count": 8
        }
      ]
    },
    {
      "cell_type": "markdown",
      "metadata": {
        "id": "7XDrm818gXt-",
        "colab_type": "text"
      },
      "source": [
        "# TFIDF"
      ]
    },
    {
      "cell_type": "markdown",
      "metadata": {
        "id": "krUxR2jVgXt_",
        "colab_type": "text"
      },
      "source": [
        "TFIDF is an information retrieval technique that weighs a term’s frequency (TF) and its inverse document frequency (IDF). Each word has its respective TF and IDF score. The product of the TF and IDF scores of a word is called the TFIDF weight of that word.\n",
        "\n",
        "Put simply, the higher the TFIDF score (weight), the rarer the word and vice versa"
      ]
    },
    {
      "cell_type": "code",
      "metadata": {
        "id": "YlM7qofWgXt_",
        "colab_type": "code",
        "colab": {},
        "outputId": "a326ad67-0e0a-4730-d690-2ebd396bfe5b"
      },
      "source": [
        "from sklearn.feature_extraction.text import TfidfVectorizer\n",
        "tfidf = TfidfVectorizer()\n",
        "tfidf.fit(result['Reviews'])"
      ],
      "execution_count": null,
      "outputs": [
        {
          "output_type": "execute_result",
          "data": {
            "text/plain": [
              "TfidfVectorizer()"
            ]
          },
          "metadata": {
            "tags": []
          },
          "execution_count": 9
        }
      ]
    },
    {
      "cell_type": "code",
      "metadata": {
        "id": "jA2vnYADgXuB",
        "colab_type": "code",
        "colab": {},
        "outputId": "f17988c0-ff46-4464-c08e-705e237a65e0"
      },
      "source": [
        "X = tfidf.transform(result['Reviews'])\n",
        "result['Reviews'][1]"
      ],
      "execution_count": null,
      "outputs": [
        {
          "output_type": "execute_result",
          "data": {
            "text/plain": [
              "'product arriv label jumbo salt peanut peanut actual small size unsalt sure error vendor intend repres product jumbo'"
            ]
          },
          "metadata": {
            "tags": []
          },
          "execution_count": 10
        }
      ]
    },
    {
      "cell_type": "code",
      "metadata": {
        "id": "pNqxHnFvgXuD",
        "colab_type": "code",
        "colab": {},
        "outputId": "990904b0-0f4d-4351-adf0-41b94af90b93"
      },
      "source": [
        "print([X[1, tfidf.vocabulary_['peanut']]])"
      ],
      "execution_count": null,
      "outputs": [
        {
          "output_type": "stream",
          "text": [
            "[0.37509695630835344]\n"
          ],
          "name": "stdout"
        }
      ]
    },
    {
      "cell_type": "code",
      "metadata": {
        "id": "ND2U8WvDgXuG",
        "colab_type": "code",
        "colab": {},
        "outputId": "a67370ed-86da-4cfd-f9d7-b7264e46c042"
      },
      "source": [
        "print([X[1, tfidf.vocabulary_['jumbo']]])"
      ],
      "execution_count": null,
      "outputs": [
        {
          "output_type": "stream",
          "text": [
            "[0.5727828521365451]\n"
          ],
          "name": "stdout"
        }
      ]
    },
    {
      "cell_type": "code",
      "metadata": {
        "id": "ukPwlQ1EgXuI",
        "colab_type": "code",
        "colab": {},
        "outputId": "e44e6a82-ef7a-4be6-ebb2-66f53ba6707d"
      },
      "source": [
        "print([X[1, tfidf.vocabulary_['error']]])"
      ],
      "execution_count": null,
      "outputs": [
        {
          "output_type": "stream",
          "text": [
            "[0.2706003734708304]\n"
          ],
          "name": "stdout"
        }
      ]
    },
    {
      "cell_type": "markdown",
      "metadata": {
        "id": "dIMqghVhgXuK",
        "colab_type": "text"
      },
      "source": [
        "Among the three words, “peanut”, “jumbo” and “error”, tf-idf gives the highest weight to “jumbo”. Why? This indicates that “jumbo” is a much rarer word than “peanut” and “error”. This is how to use the tf-idf to indicate the importance of words or terms inside a collection of documents."
      ]
    },
    {
      "cell_type": "markdown",
      "metadata": {
        "id": "J0eYHoVMgXuK",
        "colab_type": "text"
      },
      "source": [
        "# Sentiment Classification"
      ]
    },
    {
      "cell_type": "code",
      "metadata": {
        "id": "4t6ixlaDgXuL",
        "colab_type": "code",
        "colab": {},
        "outputId": "ae33f578-1938-43f1-9c1b-37515b219558"
      },
      "source": [
        "result.dropna(inplace=True)\n",
        "result[result['Score'] != 3]\n",
        "result['Positivity'] = np.where(result['Score'] > 3, 1, 0)\n",
        "cols = [ 'Score']\n",
        "result.drop(cols, axis=1, inplace=True)\n",
        "result.head()"
      ],
      "execution_count": null,
      "outputs": [
        {
          "output_type": "execute_result",
          "data": {
            "text/html": [
              "<div>\n",
              "<style scoped>\n",
              "    .dataframe tbody tr th:only-of-type {\n",
              "        vertical-align: middle;\n",
              "    }\n",
              "\n",
              "    .dataframe tbody tr th {\n",
              "        vertical-align: top;\n",
              "    }\n",
              "\n",
              "    .dataframe thead th {\n",
              "        text-align: right;\n",
              "    }\n",
              "</style>\n",
              "<table border=\"1\" class=\"dataframe\">\n",
              "  <thead>\n",
              "    <tr style=\"text-align: right;\">\n",
              "      <th></th>\n",
              "      <th>Reviews</th>\n",
              "      <th>Positivity</th>\n",
              "    </tr>\n",
              "  </thead>\n",
              "  <tbody>\n",
              "    <tr>\n",
              "      <th>0</th>\n",
              "      <td>bought sever vital can dog food product found ...</td>\n",
              "      <td>1</td>\n",
              "    </tr>\n",
              "    <tr>\n",
              "      <th>1</th>\n",
              "      <td>product arriv label jumbo salt peanut peanut a...</td>\n",
              "      <td>0</td>\n",
              "    </tr>\n",
              "    <tr>\n",
              "      <th>2</th>\n",
              "      <td>confect around centuri light pillowi citru gel...</td>\n",
              "      <td>1</td>\n",
              "    </tr>\n",
              "    <tr>\n",
              "      <th>3</th>\n",
              "      <td>look secret ingredi robitussin believ found go...</td>\n",
              "      <td>0</td>\n",
              "    </tr>\n",
              "    <tr>\n",
              "      <th>4</th>\n",
              "      <td>great taffi great price wide assort yummi taff...</td>\n",
              "      <td>1</td>\n",
              "    </tr>\n",
              "  </tbody>\n",
              "</table>\n",
              "</div>"
            ],
            "text/plain": [
              "                                             Reviews  Positivity\n",
              "0  bought sever vital can dog food product found ...           1\n",
              "1  product arriv label jumbo salt peanut peanut a...           0\n",
              "2  confect around centuri light pillowi citru gel...           1\n",
              "3  look secret ingredi robitussin believ found go...           0\n",
              "4  great taffi great price wide assort yummi taff...           1"
            ]
          },
          "metadata": {
            "tags": []
          },
          "execution_count": 14
        }
      ]
    },
    {
      "cell_type": "code",
      "metadata": {
        "id": "3pCUC6gYgXuN",
        "colab_type": "code",
        "colab": {},
        "outputId": "df3b8ac7-e068-4d7e-b9ed-0541090ce113"
      },
      "source": [
        "result.groupby('Positivity').size()"
      ],
      "execution_count": null,
      "outputs": [
        {
          "output_type": "execute_result",
          "data": {
            "text/plain": [
              "Positivity\n",
              "0    2384\n",
              "1    7616\n",
              "dtype: int64"
            ]
          },
          "metadata": {
            "tags": []
          },
          "execution_count": 15
        }
      ]
    },
    {
      "cell_type": "markdown",
      "metadata": {
        "id": "TCEh45B7gXuP",
        "colab_type": "text"
      },
      "source": [
        "# Train Test Split"
      ]
    },
    {
      "cell_type": "code",
      "metadata": {
        "id": "lVwBn8FRgXuP",
        "colab_type": "code",
        "colab": {}
      },
      "source": [
        "from sklearn.model_selection import train_test_split\n",
        "X = result.Reviews\n",
        "y = result.Positivity\n",
        "X_train, X_test, y_train, y_test = train_test_split(X, y, random_state = 0)"
      ],
      "execution_count": null,
      "outputs": []
    },
    {
      "cell_type": "code",
      "metadata": {
        "id": "BBKAzHvegXuR",
        "colab_type": "code",
        "colab": {},
        "outputId": "459eeed5-a789-4bce-8a61-1415fd3e41f9"
      },
      "source": [
        "print(\"Train set has total {0} entries with {1:.2f}% negative, {2:.2f}% positive\".format(len(X_train),\n",
        "                                                                             (len(X_train[y_train == 0]) / (len(X_train)*1.))*100,\n",
        "                                                                            (len(X_train[y_train == 1]) / (len(X_train)*1.))*100))"
      ],
      "execution_count": null,
      "outputs": [
        {
          "output_type": "stream",
          "text": [
            "Train set has total 7500 entries with 23.57% negative, 76.43% positive\n"
          ],
          "name": "stdout"
        }
      ]
    },
    {
      "cell_type": "code",
      "metadata": {
        "id": "afCXhhEdgXuT",
        "colab_type": "code",
        "colab": {},
        "outputId": "3c220d7f-fbe4-4c98-d038-7869226b67ad"
      },
      "source": [
        "print(\"Test set has total {0} entries with {1:.2f}% negative, {2:.2f}% positive\".format(len(X_test),\n",
        "                                                                             (len(X_test[y_test == 0]) / (len(X_test)*1.))*100,\n",
        "                                                                            (len(X_test[y_test == 1]) / (len(X_test)*1.))*100))"
      ],
      "execution_count": null,
      "outputs": [
        {
          "output_type": "stream",
          "text": [
            "Test set has total 2500 entries with 24.64% negative, 75.36% positive\n"
          ],
          "name": "stdout"
        }
      ]
    },
    {
      "cell_type": "code",
      "metadata": {
        "id": "3ZPlSbCmgXuV",
        "colab_type": "code",
        "colab": {}
      },
      "source": [
        "from sklearn.feature_extraction.text import CountVectorizer\n",
        "from sklearn.ensemble import RandomForestClassifier\n",
        "from sklearn.pipeline import Pipeline\n",
        "from sklearn.metrics import accuracy_score"
      ],
      "execution_count": null,
      "outputs": []
    },
    {
      "cell_type": "code",
      "metadata": {
        "id": "gLXTDS8IgXuX",
        "colab_type": "code",
        "colab": {}
      },
      "source": [
        "def accuracy_summary(pipeline, X_train, y_train, X_test, y_test):\n",
        "    sentiment_fit = pipeline.fit(X_train, y_train)\n",
        "    y_pred = sentiment_fit.predict(X_test)\n",
        "    accuracy = accuracy_score(y_test, y_pred)\n",
        "    print(\"accuracy score: {0:.2f}%\".format(accuracy*100))\n",
        "    return accuracy"
      ],
      "execution_count": null,
      "outputs": []
    },
    {
      "cell_type": "code",
      "metadata": {
        "id": "ZMiE4FHKgXuZ",
        "colab_type": "code",
        "colab": {}
      },
      "source": [
        "cv = CountVectorizer()\n",
        "rf = RandomForestClassifier(class_weight=\"balanced\")\n",
        "n_features = np.arange(10000,25001,5000)\n",
        "\n",
        "def nfeature_accuracy_checker(vectorizer=cv, n_features=n_features, stop_words=None, ngram_range=(1, 1), classifier=rf):\n",
        "    result = []\n",
        "    print(classifier)\n",
        "    print(\"\\n\")\n",
        "    for n in n_features:\n",
        "        vectorizer.set_params(stop_words=stop_words, max_features=n, ngram_range=ngram_range)\n",
        "        checker_pipeline = Pipeline([\n",
        "            ('vectorizer', vectorizer),\n",
        "            ('classifier', classifier)\n",
        "        ])\n",
        "        print(\"Test result for {} features\".format(n))\n",
        "        nfeature_accuracy = accuracy_summary(checker_pipeline, X_train, y_train, X_test, y_test)\n",
        "        result.append((n,nfeature_accuracy))\n",
        "    return result"
      ],
      "execution_count": null,
      "outputs": []
    },
    {
      "cell_type": "code",
      "metadata": {
        "id": "9KIzHEyygXub",
        "colab_type": "code",
        "colab": {}
      },
      "source": [
        "from sklearn.feature_extraction.text import TfidfVectorizer\n",
        "tfidf = TfidfVectorizer()"
      ],
      "execution_count": null,
      "outputs": []
    },
    {
      "cell_type": "code",
      "metadata": {
        "id": "UZ69PmpjgXud",
        "colab_type": "code",
        "colab": {},
        "outputId": "c0954547-5f25-4c53-d967-0cf443a47ff4"
      },
      "source": [
        "print(\"Result for trigram with stop words (Tfidf)\\n\")\n",
        "feature_result_tgt = nfeature_accuracy_checker(vectorizer=tfidf,ngram_range=(1, 3))"
      ],
      "execution_count": null,
      "outputs": [
        {
          "output_type": "stream",
          "text": [
            "Result for trigram with stop words (Tfidf)\n",
            "\n",
            "RandomForestClassifier(class_weight='balanced')\n",
            "\n",
            "\n",
            "Test result for 10000 features\n",
            "accuracy score: 84.64%\n",
            "Test result for 15000 features\n",
            "accuracy score: 83.72%\n",
            "Test result for 20000 features\n",
            "accuracy score: 83.68%\n",
            "Test result for 25000 features\n",
            "accuracy score: 83.12%\n"
          ],
          "name": "stdout"
        }
      ]
    },
    {
      "cell_type": "code",
      "metadata": {
        "id": "9Z1oHVNYgXuf",
        "colab_type": "code",
        "colab": {},
        "outputId": "6bfb9d8f-cce5-49b8-d88b-219ba1647e45"
      },
      "source": [
        "from sklearn.metrics import classification_report\n",
        "\n",
        "cv = CountVectorizer(max_features=30000,ngram_range=(1, 3))\n",
        "pipeline = Pipeline([\n",
        "        ('vectorizer', cv),\n",
        "        ('classifier', rf)\n",
        "    ])\n",
        "sentiment_fit = pipeline.fit(X_train, y_train)\n",
        "y_pred = sentiment_fit.predict(X_test)\n",
        "\n",
        "print(classification_report(y_test, y_pred, target_names=['negative','positive']))"
      ],
      "execution_count": null,
      "outputs": [
        {
          "output_type": "stream",
          "text": [
            "              precision    recall  f1-score   support\n",
            "\n",
            "    negative       0.93      0.36      0.51       616\n",
            "    positive       0.82      0.99      0.90      1884\n",
            "\n",
            "    accuracy                           0.83      2500\n",
            "   macro avg       0.88      0.67      0.71      2500\n",
            "weighted avg       0.85      0.83      0.81      2500\n",
            "\n"
          ],
          "name": "stdout"
        }
      ]
    },
    {
      "cell_type": "code",
      "metadata": {
        "id": "vQBV3YDDgXui",
        "colab_type": "code",
        "colab": {},
        "outputId": "b566e954-461c-4439-b9b4-c1eedb186fa9"
      },
      "source": [
        "## K-fold Cross Validation\n",
        "from sklearn.model_selection import cross_val_score\n",
        "accuracies = cross_val_score(estimator = pipeline, X= X_train, y = y_train,\n",
        "                             cv = 10)\n",
        "print(\"Random Forest Classifier Accuracy: %0.2f (+/- %0.2f)\"  % (accuracies.mean(), accuracies.std() * 2))"
      ],
      "execution_count": null,
      "outputs": [
        {
          "output_type": "stream",
          "text": [
            "Random Forest Classifier Accuracy: 0.83 (+/- 0.02)\n"
          ],
          "name": "stdout"
        }
      ]
    },
    {
      "cell_type": "markdown",
      "metadata": {
        "id": "zfu9xttygXul",
        "colab_type": "text"
      },
      "source": [
        "# Chi2 Feature Selection"
      ]
    },
    {
      "cell_type": "code",
      "metadata": {
        "id": "ISmYaVmegXul",
        "colab_type": "code",
        "colab": {}
      },
      "source": [
        "from sklearn.feature_selection import chi2\n",
        "\n",
        "tfidf = TfidfVectorizer(max_features=30000,ngram_range=(1, 3))\n",
        "X_tfidf = tfidf.fit_transform(result.Reviews)\n",
        "y = result.Positivity\n",
        "chi2score = chi2(X_tfidf, y)[0]"
      ],
      "execution_count": null,
      "outputs": []
    },
    {
      "cell_type": "code",
      "metadata": {
        "id": "ZwPMRLckgXun",
        "colab_type": "code",
        "colab": {},
        "outputId": "f914d014-4b0a-44a8-d6d4-d7006b9153a0"
      },
      "source": [
        "plt.figure(figsize=(16,8))\n",
        "scores = list(zip(tfidf.get_feature_names(), chi2score))\n",
        "chi2 = sorted(scores, key=lambda x:x[1])\n",
        "topchi2 = list(zip(*chi2[-20:]))\n",
        "x = range(len(topchi2[1]))\n",
        "labels = topchi2[0]\n",
        "plt.barh(x,topchi2[1], align='center', alpha=0.5)\n",
        "plt.plot(topchi2[1], x, '-o', markersize=5, alpha=0.8)\n",
        "plt.yticks(x, labels)\n",
        "plt.xlabel('$\\chi^2$')\n",
        "plt.show();"
      ],
      "execution_count": null,
      "outputs": [
        {
          "output_type": "display_data",
          "data": {
            "image/png": "[encoded data removed]",
            "text/plain": [
              "<Figure size 1152x576 with 1 Axes>"
            ]
          },
          "metadata": {
            "tags": [],
            "needs_background": "light"
          }
        }
      ]
    },
    {
      "cell_type": "markdown",
      "metadata": {
        "id": "ZCZVCLEUgXur",
        "colab_type": "text"
      },
      "source": [
        "# LSTM neural network"
      ]
    },
    {
      "cell_type": "code",
      "metadata": {
        "id": "ifowaiDXgXur",
        "colab_type": "code",
        "colab": {},
        "outputId": "d724111d-3fe1-4065-b86e-ceac7a07f157"
      },
      "source": [
        "from sklearn.feature_extraction.text import CountVectorizer\n",
        "from keras.preprocessing.text import Tokenizer\n",
        "from keras.preprocessing.sequence import pad_sequences\n",
        "from keras.models import Sequential\n",
        "from keras.layers import Dense, Embedding, LSTM\n",
        "from sklearn.model_selection import train_test_split\n",
        "from keras.utils.np_utils import to_categorical\n",
        "import re"
      ],
      "execution_count": null,
      "outputs": [
        {
          "output_type": "stream",
          "text": [
            "Using TensorFlow backend.\n",
            "/home/kaveri/.local/lib/python3.6/site-packages/tensorflow/python/framework/dtypes.py:516: FutureWarning: Passing (type, 1) or '1type' as a synonym of type is deprecated; in a future version of numpy, it will be understood as (type, (1,)) / '(1,)type'.\n",
            "  _np_qint8 = np.dtype([(\"qint8\", np.int8, 1)])\n",
            "/home/kaveri/.local/lib/python3.6/site-packages/tensorflow/python/framework/dtypes.py:517: FutureWarning: Passing (type, 1) or '1type' as a synonym of type is deprecated; in a future version of numpy, it will be understood as (type, (1,)) / '(1,)type'.\n",
            "  _np_quint8 = np.dtype([(\"quint8\", np.uint8, 1)])\n",
            "/home/kaveri/.local/lib/python3.6/site-packages/tensorflow/python/framework/dtypes.py:518: FutureWarning: Passing (type, 1) or '1type' as a synonym of type is deprecated; in a future version of numpy, it will be understood as (type, (1,)) / '(1,)type'.\n",
            "  _np_qint16 = np.dtype([(\"qint16\", np.int16, 1)])\n",
            "/home/kaveri/.local/lib/python3.6/site-packages/tensorflow/python/framework/dtypes.py:519: FutureWarning: Passing (type, 1) or '1type' as a synonym of type is deprecated; in a future version of numpy, it will be understood as (type, (1,)) / '(1,)type'.\n",
            "  _np_quint16 = np.dtype([(\"quint16\", np.uint16, 1)])\n",
            "/home/kaveri/.local/lib/python3.6/site-packages/tensorflow/python/framework/dtypes.py:520: FutureWarning: Passing (type, 1) or '1type' as a synonym of type is deprecated; in a future version of numpy, it will be understood as (type, (1,)) / '(1,)type'.\n",
            "  _np_qint32 = np.dtype([(\"qint32\", np.int32, 1)])\n",
            "/home/kaveri/.local/lib/python3.6/site-packages/tensorflow/python/framework/dtypes.py:525: FutureWarning: Passing (type, 1) or '1type' as a synonym of type is deprecated; in a future version of numpy, it will be understood as (type, (1,)) / '(1,)type'.\n",
            "  np_resource = np.dtype([(\"resource\", np.ubyte, 1)])\n",
            "/home/kaveri/.local/lib/python3.6/site-packages/tensorboard/compat/tensorflow_stub/dtypes.py:541: FutureWarning: Passing (type, 1) or '1type' as a synonym of type is deprecated; in a future version of numpy, it will be understood as (type, (1,)) / '(1,)type'.\n",
            "  _np_qint8 = np.dtype([(\"qint8\", np.int8, 1)])\n",
            "/home/kaveri/.local/lib/python3.6/site-packages/tensorboard/compat/tensorflow_stub/dtypes.py:542: FutureWarning: Passing (type, 1) or '1type' as a synonym of type is deprecated; in a future version of numpy, it will be understood as (type, (1,)) / '(1,)type'.\n",
            "  _np_quint8 = np.dtype([(\"quint8\", np.uint8, 1)])\n",
            "/home/kaveri/.local/lib/python3.6/site-packages/tensorboard/compat/tensorflow_stub/dtypes.py:543: FutureWarning: Passing (type, 1) or '1type' as a synonym of type is deprecated; in a future version of numpy, it will be understood as (type, (1,)) / '(1,)type'.\n",
            "  _np_qint16 = np.dtype([(\"qint16\", np.int16, 1)])\n",
            "/home/kaveri/.local/lib/python3.6/site-packages/tensorboard/compat/tensorflow_stub/dtypes.py:544: FutureWarning: Passing (type, 1) or '1type' as a synonym of type is deprecated; in a future version of numpy, it will be understood as (type, (1,)) / '(1,)type'.\n",
            "  _np_quint16 = np.dtype([(\"quint16\", np.uint16, 1)])\n",
            "/home/kaveri/.local/lib/python3.6/site-packages/tensorboard/compat/tensorflow_stub/dtypes.py:545: FutureWarning: Passing (type, 1) or '1type' as a synonym of type is deprecated; in a future version of numpy, it will be understood as (type, (1,)) / '(1,)type'.\n",
            "  _np_qint32 = np.dtype([(\"qint32\", np.int32, 1)])\n",
            "/home/kaveri/.local/lib/python3.6/site-packages/tensorboard/compat/tensorflow_stub/dtypes.py:550: FutureWarning: Passing (type, 1) or '1type' as a synonym of type is deprecated; in a future version of numpy, it will be understood as (type, (1,)) / '(1,)type'.\n",
            "  np_resource = np.dtype([(\"resource\", np.ubyte, 1)])\n"
          ],
          "name": "stderr"
        }
      ]
    },
    {
      "cell_type": "code",
      "metadata": {
        "id": "Aj_DICnkgXut",
        "colab_type": "code",
        "colab": {},
        "outputId": "51573cfd-11f2-4da4-f1c3-585bc2bf5b37"
      },
      "source": [
        "max_fatures = 30000\n",
        "tokenizer = Tokenizer(nb_words=max_fatures, split=' ')\n",
        "tokenizer.fit_on_texts(result['Reviews'].values)\n",
        "X1 = tokenizer.texts_to_sequences(result['Reviews'].values)\n",
        "X1 = pad_sequences(X1)"
      ],
      "execution_count": null,
      "outputs": [
        {
          "output_type": "stream",
          "text": [
            "/home/kaveri/.local/lib/python3.6/site-packages/keras_preprocessing/text.py:178: UserWarning: The `nb_words` argument in `Tokenizer` has been renamed `num_words`.\n",
            "  warnings.warn('The `nb_words` argument in `Tokenizer` '\n"
          ],
          "name": "stderr"
        }
      ]
    },
    {
      "cell_type": "code",
      "metadata": {
        "id": "KWboa2JhgXuw",
        "colab_type": "code",
        "colab": {},
        "outputId": "1a8411e8-2565-48b6-b221-2bc7d975f102"
      },
      "source": [
        "Y1 = pd.get_dummies(result['Positivity']).values\n",
        "X1_train, X1_test, Y1_train, Y1_test = train_test_split(X1,Y1, random_state = 42)\n",
        "print(X1_train.shape,Y1_train.shape)\n",
        "print(X1_test.shape,Y1_test.shape)"
      ],
      "execution_count": null,
      "outputs": [
        {
          "output_type": "stream",
          "text": [
            "(7500, 932) (7500, 2)\n",
            "(2500, 932) (2500, 2)\n"
          ],
          "name": "stdout"
        }
      ]
    },
    {
      "cell_type": "markdown",
      "metadata": {
        "id": "ibFB24LGgXuy",
        "colab_type": "text"
      },
      "source": [
        "Keras Embedding Layer\n",
        "Keras offers an Embedding layer that can be used for neural networks on text data.\n",
        "\n",
        "It requires that the input data be integer encoded, so that each word is represented by a unique integer. This data preparation step can be performed using the Tokenizer API also provided with Keras.\n",
        "\n",
        "The Embedding layer is initialized with random weights and will learn an embedding for all of the words in the training dataset.\n",
        "\n",
        "It is a flexible layer that can be used in a variety of ways, such as:\n",
        "\n",
        "It can be used alone to learn a word embedding that can be saved and used in another model later.\n",
        "It can be used as part of a deep learning model where the embedding is learned along with the model itself.\n",
        "It can be used to load a pre-trained word embedding model, a type of transfer learning.\n",
        "The Embedding layer is defined as the first hidden layer of a network. It must specify 3 arguments:\n",
        "\n",
        "It must specify 3 arguments:\n",
        "\n",
        "input_dim: This is the size of the vocabulary in the text data. For example, if your data is integer encoded to values between 0-10, then the size of the vocabulary would be 11 words.\n",
        "output_dim: This is the size of the vector space in which words will be embedded. It defines the size of the output vectors from this layer for each word. For example, it could be 32 or 100 or even larger. Test different values for your problem.\n",
        "input_length: This is the length of input sequences, as you would define for any input layer of a Keras model. For example, if all of your input documents are comprised of 1000 words, this would be 1000.\n",
        "For example, below we define an Embedding layer with a vocabulary of 200 (e.g. integer encoded words from 0 to 199, inclusive), a vector space of 32 dimensions in which words will be embedded, and input documents that have 50 words each.\n",
        "\n",
        "\n",
        "e = Embedding(200, 32, input_length=50)\n",
        "1\n",
        "e = Embedding(200, 32, input_length=50)\n",
        "The Embedding layer has weights that are learned. If you save your model to file, this will include weights for the Embedding layer.\n",
        "\n",
        "The output of the Embedding layer is a 2D vector with one embedding for each word in the input sequence of words (input document).\n",
        "\n",
        "If you wish to connect a Dense layer directly to an Embedding layer, you must first flatten the 2D output matrix to a 1D vector using the Flatten layer."
      ]
    },
    {
      "cell_type": "code",
      "metadata": {
        "id": "RMnpcNE9gXuy",
        "colab_type": "code",
        "colab": {},
        "outputId": "501ffa22-31d0-4734-f7b7-f36eba5c4b6a"
      },
      "source": [
        "embed_dim = 150\n",
        "lstm_out = 200\n",
        "\n",
        "model = Sequential()\n",
        "model.add(Embedding(max_fatures, embed_dim,input_length = X1.shape[1], dropout=0.2))\n",
        "model.add(LSTM(lstm_out, dropout_U=0.2,dropout_W=0.2))\n",
        "model.add(Dense(2,activation='softmax'))\n",
        "model.compile(loss = 'categorical_crossentropy', optimizer='adam',metrics = ['accuracy'])\n",
        "print(model.summary())"
      ],
      "execution_count": null,
      "outputs": [
        {
          "output_type": "stream",
          "text": [
            "/home/kaveri/.local/lib/python3.6/site-packages/ipykernel_launcher.py:5: UserWarning: The `dropout` argument is no longer support in `Embedding`. You can apply a `keras.layers.SpatialDropout1D` layer right after the `Embedding` layer to get the same behavior.\n",
            "  \"\"\"\n",
            "/home/kaveri/.local/lib/python3.6/site-packages/ipykernel_launcher.py:6: UserWarning: Update your `LSTM` call to the Keras 2 API: `LSTM(200, dropout=0.2, recurrent_dropout=0.2)`\n",
            "  \n"
          ],
          "name": "stderr"
        },
        {
          "output_type": "stream",
          "text": [
            "Model: \"sequential_1\"\n",
            "_________________________________________________________________\n",
            "Layer (type)                 Output Shape              Param #   \n",
            "=================================================================\n",
            "embedding_1 (Embedding)      (None, 932, 150)          4500000   \n",
            "_________________________________________________________________\n",
            "lstm_1 (LSTM)                (None, 200)               280800    \n",
            "_________________________________________________________________\n",
            "dense_1 (Dense)              (None, 2)                 402       \n",
            "=================================================================\n",
            "Total params: 4,781,202\n",
            "Trainable params: 4,781,202\n",
            "Non-trainable params: 0\n",
            "_________________________________________________________________\n",
            "None\n"
          ],
          "name": "stdout"
        }
      ]
    },
    {
      "cell_type": "markdown",
      "metadata": {
        "id": "E2SD9DS-gXu0",
        "colab_type": "text"
      },
      "source": [
        "Next, I compose the LSTM Network. Note that embed_dim, lstm_out, batch_size, droupout_x variables are hyperparameters, their values are somehow intuitive, can be and must be played with in order to achieve good results. Please also note that I am using softmax as activation function. The reason is that our Network is using categorical crossentropy, and softmax is just the right activation method for that."
      ]
    },
    {
      "cell_type": "code",
      "metadata": {
        "id": "Rtde-uf7gXu0",
        "colab_type": "code",
        "colab": {},
        "outputId": "0106a746-6958-4005-d54f-4c3e88be9c2e"
      },
      "source": [
        "batch_size = 32\n",
        "model.fit(X1_train, Y1_train, nb_epoch = 10, batch_size=batch_size, verbose = 2)"
      ],
      "execution_count": null,
      "outputs": [
        {
          "output_type": "stream",
          "text": [
            "/home/kaveri/.local/lib/python3.6/site-packages/ipykernel_launcher.py:2: UserWarning: The `nb_epoch` argument in `fit` has been renamed `epochs`.\n",
            "  \n"
          ],
          "name": "stderr"
        },
        {
          "output_type": "stream",
          "text": [
            "WARNING:tensorflow:From /home/kaveri/.local/lib/python3.6/site-packages/keras/backend/tensorflow_backend.py:422: The name tf.global_variables is deprecated. Please use tf.compat.v1.global_variables instead.\n",
            "\n",
            "Epoch 1/10\n",
            " - 4645s - loss: 0.4519 - accuracy: 0.7964\n",
            "Epoch 2/10\n",
            " - 696s - loss: 0.2733 - accuracy: 0.8903\n",
            "Epoch 3/10\n",
            " - 676s - loss: 0.1773 - accuracy: 0.9320\n",
            "Epoch 4/10\n",
            " - 685s - loss: 0.1133 - accuracy: 0.9612\n",
            "Epoch 5/10\n",
            " - 719s - loss: 0.0741 - accuracy: 0.9741\n",
            "Epoch 6/10\n",
            " - 786s - loss: 0.0556 - accuracy: 0.9821\n",
            "Epoch 7/10\n",
            " - 753s - loss: 0.0367 - accuracy: 0.9885\n",
            "Epoch 8/10\n",
            " - 684s - loss: 0.0239 - accuracy: 0.9921\n",
            "Epoch 9/10\n",
            " - 674s - loss: 0.0218 - accuracy: 0.9929\n",
            "Epoch 10/10\n",
            " - 684s - loss: 0.0236 - accuracy: 0.9920\n"
          ],
          "name": "stdout"
        },
        {
          "output_type": "execute_result",
          "data": {
            "text/plain": [
              "<keras.callbacks.callbacks.History at 0x7f470ac4da58>"
            ]
          },
          "metadata": {
            "tags": []
          },
          "execution_count": 33
        }
      ]
    },
    {
      "cell_type": "code",
      "metadata": {
        "id": "8amCk_N6gXu2",
        "colab_type": "code",
        "colab": {},
        "outputId": "00d1bd2c-d0a0-4b27-dd58-a6697f59b323"
      },
      "source": [
        "score,acc = model.evaluate(X1_test, Y1_test, verbose = 2, batch_size = batch_size)\n",
        "print(\"score: %.2f\" % (score))\n",
        "print(\"acc: %.2f\" % (acc))"
      ],
      "execution_count": null,
      "outputs": [
        {
          "output_type": "stream",
          "text": [
            "score: 0.86\n",
            "acc: 0.82\n"
          ],
          "name": "stdout"
        }
      ]
    },
    {
      "cell_type": "markdown",
      "metadata": {
        "id": "TvwPDWnngXu4",
        "colab_type": "text"
      },
      "source": [
        "\n",
        "Finally measuring the number of correct guesses. It is clear that finding negative tweets goes very well for the Network but deciding whether is positive is not really."
      ]
    },
    {
      "cell_type": "code",
      "metadata": {
        "id": "fRyLWbyVgXu4",
        "colab_type": "code",
        "colab": {},
        "outputId": "d0dbbc26-a3ac-41ac-f5a8-6fcc65d22a25"
      },
      "source": [
        "pos_cnt, neg_cnt, pos_correct, neg_correct = 0, 0, 0, 0\n",
        "for x in range(len(X1_test)):\n",
        "    \n",
        "    result = model.predict(X1_test[x].reshape(1,X1_test.shape[1]),batch_size=1,verbose = 2)[0]\n",
        "   \n",
        "    if np.argmax(result) == np.argmax(Y1_test[x]):\n",
        "        if np.argmax(Y1_test[x]) == 0:\n",
        "            neg_correct += 1\n",
        "        else:\n",
        "            pos_correct += 1\n",
        "       \n",
        "    if np.argmax(Y1_test[x]) == 0:\n",
        "        neg_cnt += 1\n",
        "    else:\n",
        "        pos_cnt += 1\n",
        "\n",
        "\n",
        "\n",
        "print(\"pos_acc\", pos_correct/pos_cnt*100, \"%\")\n",
        "print(\"neg_acc\", neg_correct/neg_cnt*100, \"%\")"
      ],
      "execution_count": null,
      "outputs": [
        {
          "output_type": "stream",
          "text": [
            "pos_acc 89.46259220231822 %\n",
            "neg_acc 60.29900332225914 %\n"
          ],
          "name": "stdout"
        }
      ]
    },
    {
      "cell_type": "code",
      "metadata": {
        "id": "ecGCEsIfgXu7",
        "colab_type": "code",
        "colab": {}
      },
      "source": [
        ""
      ],
      "execution_count": null,
      "outputs": []
    },
    {
      "cell_type": "code",
      "metadata": {
        "id": "yrwdiCJwgXu9",
        "colab_type": "code",
        "colab": {}
      },
      "source": [
        ""
      ],
      "execution_count": null,
      "outputs": []
    },
    {
      "cell_type": "code",
      "metadata": {
        "id": "veI4hMrtgXu_",
        "colab_type": "code",
        "colab": {}
      },
      "source": [
        ""
      ],
      "execution_count": null,
      "outputs": []
    }
  ]
}