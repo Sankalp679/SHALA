{
 "cells": [
  {
   "cell_type": "markdown",
   "metadata": {},
   "source": [
    "# Tensorflow 2 Basic Operations\n",
    "\n",
    "Partly derived from tutorials by Aymeric Damien (https://github.com/aymericdamien/TensorFlow-Examples/)"
   ]
  },
  {
   "cell_type": "code",
   "execution_count": null,
   "metadata": {},
   "outputs": [],
   "source": [
    "# import tensorflow module. Check API version.\n",
    "import tensorflow as tf\n",
    "\n",
    "print (tf.__version__)\n",
    "\n",
    "# required for TF to run within docker using GPU (ignore otherwise)\n",
    "gpu = tf.config.experimental.list_physical_devices('GPU')\n",
    "tf.config.experimental.set_memory_growth(gpu[0], True)"
   ]
  },
  {
   "cell_type": "markdown",
   "metadata": {},
   "source": [
    "## Define Tensors"
   ]
  },
  {
   "cell_type": "code",
   "execution_count": null,
   "metadata": {},
   "outputs": [],
   "source": [
    "# define tensor string constants\n",
    "hello = tf.constant(\"hello world\")\n",
    "\n",
    "print(\"Tensor Object:\", hello)\n",
    "print(\"Numpy:\", hello.numpy())"
   ]
  },
  {
   "cell_type": "code",
   "execution_count": null,
   "metadata": {},
   "outputs": [],
   "source": [
    "# define tensor numerical constants\n",
    "a = tf.constant(2)\n",
    "b = tf.constant(3)\n",
    "c = tf.constant(5)\n",
    "\n",
    "print(\"Tensor Object:\", a, b, c)\n",
    "print(\"Numpy:\", a.numpy(), b.numpy(), c.numpy())"
   ]
  },
  {
   "cell_type": "markdown",
   "metadata": {},
   "source": [
    "## Arithmetic Operations"
   ]
  },
  {
   "cell_type": "code",
   "execution_count": null,
   "metadata": {},
   "outputs": [],
   "source": [
    "# simple tensor arithmetic using API functions\n",
    "\n",
    "add = tf.add(a, b)\n",
    "print(\"add =\", add)\n",
    "\n",
    "sub = tf.subtract(a, b)\n",
    "print(\"sub =\", sub)\n",
    "\n",
    "mul = tf.multiply(a, b)\n",
    "print(\"mul =\", mul)\n",
    "\n",
    "div = tf.divide(a, b)\n",
    "print(\"mul =\", div)"
   ]
  },
  {
   "cell_type": "code",
   "execution_count": null,
   "metadata": {},
   "outputs": [],
   "source": [
    "# simple tensor operations with Python operator overloading\n",
    "\n",
    "add = a + b\n",
    "print(\"a + b =\", add)\n",
    "\n",
    "sub = a - b\n",
    "print(\"a - b =\", sub)\n",
    "\n",
    "mul = a * b\n",
    "print(\"a * b =\", mul)\n",
    "\n",
    "div = a / b\n",
    "print(\"a / b =\", div)"
   ]
  },
  {
   "cell_type": "code",
   "execution_count": null,
   "metadata": {},
   "outputs": [],
   "source": [
    "# array operations\n",
    "\n",
    "print(\"mean =\", tf.reduce_mean([a, b, c]))\n",
    "\n",
    "print(\"sum =\", tf.reduce_sum([a, b, c]))"
   ]
  },
  {
   "cell_type": "markdown",
   "metadata": {},
   "source": [
    "## Matrix Operations"
   ]
  },
  {
   "cell_type": "code",
   "execution_count": null,
   "metadata": {},
   "outputs": [],
   "source": [
    "# define tensor matrices\n",
    "mat1 = tf.constant([\n",
    "    [1., 2.],\n",
    "    [3., 4.]\n",
    "])\n",
    "\n",
    "mat2 = tf.constant([\n",
    "    [5., 6.],\n",
    "    [7., 8.]\n",
    "])\n",
    "\n",
    "print (\"mat1 * mat2 =\", tf.matmul(mat1, mat2))"
   ]
  },
  {
   "cell_type": "code",
   "execution_count": null,
   "metadata": {},
   "outputs": [],
   "source": [
    "# broadcasting\n",
    "const = tf.constant(10.)\n",
    "\n",
    "print (\"mat1 * mat2 + const =\", tf.add(tf.matmul(mat1, mat2), const))"
   ]
  },
  {
   "cell_type": "code",
   "execution_count": null,
   "metadata": {},
   "outputs": [],
   "source": []
  }
 ],
 "metadata": {
  "kernelspec": {
   "display_name": "Python 3",
   "language": "python",
   "name": "python3"
  },
  "language_info": {
   "codemirror_mode": {
    "name": "ipython",
    "version": 3
   },
   "file_extension": ".py",
   "mimetype": "text/x-python",
   "name": "python",
   "nbconvert_exporter": "python",
   "pygments_lexer": "ipython3",
   "version": "3.6.9"
  }
 },
 "nbformat": 4,
 "nbformat_minor": 2
}
