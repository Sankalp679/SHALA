{
 "cells": [
  {
   "cell_type": "markdown",
   "metadata": {},
   "source": [
    "# Tensorflow 2 Linear Regression\n",
    "\n",
    "Partly derived from tutorials by Aymeric Damien (https://github.com/aymericdamien/TensorFlow-Examples/)"
   ]
  },
  {
   "cell_type": "code",
   "execution_count": null,
   "metadata": {},
   "outputs": [],
   "source": [
    "# import tensorflow module. Check API version.\n",
    "import tensorflow as tf\n",
    "\n",
    "print (tf.__version__)\n",
    "\n",
    "# required for TF to run within docker using GPU (ignore otherwise)\n",
    "gpu = tf.config.experimental.list_physical_devices('GPU')\n",
    "tf.config.experimental.set_memory_growth(gpu[0], True)"
   ]
  },
  {
   "cell_type": "markdown",
   "metadata": {},
   "source": [
    "## Generate Training Data"
   ]
  },
  {
   "cell_type": "code",
   "execution_count": null,
   "metadata": {},
   "outputs": [],
   "source": [
    "import numpy as np\n",
    "\n",
    "# generate training data\n",
    "X_data = 2 * np.random.rand(100, 1) # select random points\n",
    "y_value = 3 * X_data + 4 + np.random.randn(100, 1) # select points along 3X + 4 with added noise"
   ]
  },
  {
   "cell_type": "code",
   "execution_count": null,
   "metadata": {},
   "outputs": [],
   "source": [
    "%matplotlib inline\n",
    "import matplotlib.pyplot as plt\n",
    "\n",
    "# visualize training data\n",
    "plt.plot(X_data, y_value, \"b.\")\n",
    "plt.axis([0, 2, 0, 15])\n",
    "plt.show()"
   ]
  },
  {
   "cell_type": "markdown",
   "metadata": {},
   "source": [
    "## Define Model Equations"
   ]
  },
  {
   "cell_type": "code",
   "execution_count": null,
   "metadata": {},
   "outputs": [],
   "source": [
    "# linear regression model equation y = WX + b\n",
    "def linear_regression(X, W, b):\n",
    "    return tf.add(tf.multiply(W, X), b)\n",
    "\n",
    "# mean square error loss function\n",
    "def mean_square(y_pred, y_true):\n",
    "    return tf.reduce_mean(tf.square(y_pred - y_true))"
   ]
  },
  {
   "cell_type": "markdown",
   "metadata": {},
   "source": [
    "## Define Optimizer Function"
   ]
  },
  {
   "cell_type": "code",
   "execution_count": null,
   "metadata": {},
   "outputs": [],
   "source": [
    "# Stochastic Gradient Descent optimizer\n",
    "learning_rate = 0.01\n",
    "optimizer = tf.optimizers.SGD(learning_rate)\n",
    "\n",
    "# optimization function\n",
    "def run_optimization(X, y, W, b):\n",
    "    # wrap computation inside a GradientTape for automatic differentiation\n",
    "    with tf.GradientTape() as g:\n",
    "        pred = linear_regression(X, W, b)\n",
    "        loss = mean_square(pred, y)\n",
    "\n",
    "    # compute gradients\n",
    "    gradients = g.gradient(loss, [W, b])\n",
    "\n",
    "    # update W and b following gradients\n",
    "    optimizer.apply_gradients(zip(gradients, [W, b]))"
   ]
  },
  {
   "cell_type": "markdown",
   "metadata": {},
   "source": [
    "## Train Model"
   ]
  },
  {
   "cell_type": "code",
   "execution_count": null,
   "metadata": {},
   "outputs": [],
   "source": [
    "# training parameters\n",
    "training_steps = 1000\n",
    "display_step = 50\n",
    "\n",
    "# weight and bias, initialized randomly with normal distribution\n",
    "W = tf.Variable(np.random.randn(), name=\"weight\")\n",
    "b = tf.Variable(np.random.randn(), name=\"bias\")\n",
    "\n",
    "# run training for the given number of steps\n",
    "for step in range(1, training_steps + 1):\n",
    "    # run the optimization to update W and b values\n",
    "    run_optimization(X_data, y_value, W, b)\n",
    "\n",
    "    # display optimization progress every few steps\n",
    "    if step % display_step == 0:\n",
    "        pred = linear_regression(X_data, W, b)\n",
    "        loss = mean_square(pred, y_value)\n",
    "        print(\"step: %i, loss: %f, W: %f, b: %f\" % (step, loss, W.numpy(), b.numpy()))\n",
    "        \n",
    "    # stop with specific loss criteria\n",
    "    #if loss < CONST:\n",
    "    #    break"
   ]
  },
  {
   "cell_type": "markdown",
   "metadata": {},
   "source": [
    "## Evaluate Model"
   ]
  },
  {
   "cell_type": "code",
   "execution_count": null,
   "metadata": {},
   "outputs": [],
   "source": [
    "# print final parameters\n",
    "print (\"W =\", W.numpy(), \"b =\", b.numpy())"
   ]
  },
  {
   "cell_type": "code",
   "execution_count": null,
   "metadata": {},
   "outputs": [],
   "source": [
    "# visualize linear regression output\n",
    "plt.plot(X_data, y_value, \"b.\", label=\"data points\")\n",
    "plt.plot(X_data, linear_regression(X_data, W, b), \"r-\", label='fitted line')\n",
    "plt.axis([0, 2, 0, 15])\n",
    "plt.legend()\n",
    "plt.show()"
   ]
  },
  {
   "cell_type": "code",
   "execution_count": null,
   "metadata": {},
   "outputs": [],
   "source": []
  }
 ],
 "metadata": {
  "kernelspec": {
   "display_name": "Python 3",
   "language": "python",
   "name": "python3"
  },
  "language_info": {
   "codemirror_mode": {
    "name": "ipython",
    "version": 3
   },
   "file_extension": ".py",
   "mimetype": "text/x-python",
   "name": "python",
   "nbconvert_exporter": "python",
   "pygments_lexer": "ipython3",
   "version": "3.6.9"
  }
 },
 "nbformat": 4,
 "nbformat_minor": 2
}
